{
 "cells": [
  {
   "cell_type": "markdown",
   "metadata": {},
   "source": []
  },
  {
   "cell_type": "markdown",
   "metadata": {},
   "source": []
  },
  {
   "cell_type": "markdown",
   "metadata": {},
   "source": [
    "#### Python Memory Management\n",
    "Memory management in Python involves a combination of automatic garbage collection, reference counting, and various internal optimizations to efficiently manage memory allocation and deallocation. Understanding these mechanisms can help developers write more efficient and robust applications.\n",
    "\n",
    "1. Key Concepts in Python Memory Management\n",
    "2. Memory Allocation and Deallocation\n",
    "3. Reference Counting\n",
    "4. Garbage Collection\n",
    "5. The gc Module\n",
    "6. Memory Management Best Practices"
   ]
  },
  {
   "cell_type": "markdown",
   "metadata": {},
   "source": [
    "#### Reference Counting\n",
    "Reference counting is the primary method Python uses to manage memory. Each object in Python maintains a count of references pointing to it. When the reference count drops to zero, the memory occupied by the object is deallocated."
   ]
  },
  {
   "cell_type": "markdown",
   "metadata": {},
   "source": []
  },
  {
   "cell_type": "code",
   "execution_count": 14,
   "metadata": {},
   "outputs": [
    {
     "name": "stdout",
     "output_type": "stream",
     "text": [
      "2\n"
     ]
    }
   ],
   "source": [
    "import sys\n",
    "\n",
    "a=[]\n",
    "## 2 (one reference from 'a' and one from getrefcount())\n",
    "print(sys.getrefcount(a))"
   ]
  },
  {
   "cell_type": "code",
   "execution_count": 15,
   "metadata": {},
   "outputs": [
    {
     "name": "stdout",
     "output_type": "stream",
     "text": [
      "3\n"
     ]
    }
   ],
   "source": [
    "b=a\n",
    "print(sys.getrefcount(b))"
   ]
  },
  {
   "cell_type": "code",
   "execution_count": 16,
   "metadata": {},
   "outputs": [
    {
     "name": "stdout",
     "output_type": "stream",
     "text": [
      "2\n"
     ]
    }
   ],
   "source": [
    "del b\n",
    "print(sys.getrefcount(a))"
   ]
  },
  {
   "cell_type": "markdown",
   "metadata": {},
   "source": [
    "#### Garbage Collection\n",
    "Python includes a cyclic garbage collector to handle reference cycles. Reference cycles occur when objects reference each other, preventing their reference counts from reaching zero."
   ]
  },
  {
   "cell_type": "code",
   "execution_count": 17,
   "metadata": {},
   "outputs": [],
   "source": [
    "import gc\n",
    "\n",
    "## enable garbage collection\n",
    "gc.enable()\n"
   ]
  },
  {
   "cell_type": "code",
   "execution_count": 18,
   "metadata": {},
   "outputs": [],
   "source": [
    "gc.disable()"
   ]
  },
  {
   "cell_type": "code",
   "execution_count": 22,
   "metadata": {},
   "outputs": [
    {
     "data": {
      "text/plain": [
       "0"
      ]
     },
     "execution_count": 22,
     "metadata": {},
     "output_type": "execute_result"
    }
   ],
   "source": [
    "gc.collect()"
   ]
  },
  {
   "cell_type": "code",
   "execution_count": null,
   "metadata": {},
   "outputs": [
    {
     "name": "stdout",
     "output_type": "stream",
     "text": [
      "[{'collections': 172, 'collected': 1440, 'uncollectable': 0}, {'collections': 15, 'collected': 293, 'uncollectable': 0}, {'collections': 10, 'collected': 41, 'uncollectable': 0}]\n"
     ]
    }
   ],
   "source": [
    "### Get garbage collection stats\n",
    "\n",
    "print(gc.get_stats())"
   ]
  },
  {
   "cell_type": "code",
   "execution_count": null,
   "metadata": {},
   "outputs": [
    {
     "name": "stdout",
     "output_type": "stream",
     "text": [
      "[]\n"
     ]
    }
   ],
   "source": [
    "### get unreachable objects\n",
    "\n",
    "print(gc.garbage)"
   ]
  },
  {
   "cell_type": "markdown",
   "metadata": {},
   "source": [
    "####  Memory Management Best Practices\n",
    "1. Use Local Variables: Local variables have a shorter lifespan and are freed sooner than global variables.\n",
    "2. Avoid Circular References: Circular references can lead to memory leaks if not properly managed.\n",
    "3. Use Generators: Generators produce items one at a time and only keep one item in memory at a time, making them memory efficient.\n",
    "4. Explicitly Delete Objects: Use the del statement to delete variables and objects explicitly.\n",
    "5. Profile Memory Usage: Use memory profiling tools like tracemalloc and memory_profiler to identify memory leaks and optimize memory usage."
   ]
  },
  {
   "cell_type": "markdown",
   "metadata": {},
   "source": []
  },
  {
   "cell_type": "code",
   "execution_count": 29,
   "metadata": {},
   "outputs": [
    {
     "name": "stdout",
     "output_type": "stream",
     "text": [
      "Object obj1 created\n",
      "Object obj2 created\n",
      "Object obj1 deleted\n",
      "Object obj2 deleted\n"
     ]
    },
    {
     "data": {
      "text/plain": [
       "9"
      ]
     },
     "execution_count": 29,
     "metadata": {},
     "output_type": "execute_result"
    }
   ],
   "source": [
    "## Handled Circular reference\n",
    "import gc\n",
    "\n",
    "class MyObject:\n",
    "    def __init__(self, name):\n",
    "        self.name = name\n",
    "        print(f\"Object {self.name} created\")\n",
    "\n",
    "    def __del__(self):\n",
    "        print(f\"Object {self.name} deleted\")\n",
    "\n",
    "# Create circular reference\n",
    "obj1 = MyObject(\"obj1\")\n",
    "obj2 = MyObject(\"obj2\")\n",
    "obj1.ref = obj2\n",
    "obj2.ref = obj1\n",
    "\n",
    "del obj1\n",
    "del obj2\n",
    "\n",
    "## Manually trigger the garbage collection\n",
    "gc.collect()"
   ]
  },
  {
   "cell_type": "code",
   "execution_count": 30,
   "metadata": {},
   "outputs": [
    {
     "name": "stdout",
     "output_type": "stream",
     "text": [
      "0\n",
      "1\n",
      "2\n",
      "3\n",
      "4\n",
      "5\n",
      "6\n",
      "7\n",
      "8\n",
      "9\n",
      "10\n",
      "11\n"
     ]
    }
   ],
   "source": [
    "## Generators For Memory Efficiency\n",
    "#Generators allow you to produce items one at a time, using memory efficiently by only keeping one item in memory at a time.\n",
    "\n",
    "def generate_numbers(n):\n",
    "    for i in range(n):\n",
    "        yield i\n",
    "\n",
    "## using the generator\n",
    "for num in generate_numbers(100000):\n",
    "    print(num)\n",
    "    if num>10:\n",
    "        break"
   ]
  },
  {
   "cell_type": "code",
   "execution_count": 31,
   "metadata": {},
   "outputs": [],
   "source": [
    "## Profiling Memory USage with tracemalloc\n",
    "import tracemalloc\n",
    "\n",
    "def create_list():\n",
    "    return [i for i in range(10000)]\n",
    "\n",
    "def main():\n",
    "    tracemalloc.start()\n",
    "    \n",
    "    create_list()\n",
    "    \n",
    "    snapshot = tracemalloc.take_snapshot()\n",
    "    top_stats = snapshot.statistics('lineno')\n",
    "    \n",
    "    print(\"[ Top 10 ]\")\n",
    "    for stat in top_stats[::]:\n",
    "        print(stat)\n"
   ]
  },
  {
   "cell_type": "code",
   "execution_count": 33,
   "metadata": {},
   "outputs": [
    {
     "name": "stdout",
     "output_type": "stream",
     "text": [
      "[ Top 10 ]\n",
      "c:\\Satish\\Complete-Python-Bootcamp\\venv\\Lib\\json\\decoder.py:354: size=1387 B, count=21, average=66 B\n",
      "c:\\Satish\\Complete-Python-Bootcamp\\venv\\Lib\\site-packages\\jupyter_client\\session.py:100: size=1241 B, count=8, average=155 B\n",
      "c:\\Satish\\Complete-Python-Bootcamp\\venv\\Lib\\contextlib.py:105: size=1136 B, count=11, average=103 B\n",
      "c:\\Satish\\Complete-Python-Bootcamp\\venv\\Lib\\site-packages\\zmq\\sugar\\socket.py:805: size=1056 B, count=6, average=176 B\n",
      "c:\\Satish\\Complete-Python-Bootcamp\\venv\\Lib\\site-packages\\traitlets\\traitlets.py:731: size=812 B, count=13, average=62 B\n",
      "c:\\Satish\\Complete-Python-Bootcamp\\venv\\Lib\\threading.py:293: size=760 B, count=2, average=380 B\n",
      "c:\\Satish\\Complete-Python-Bootcamp\\venv\\Lib\\site-packages\\zmq\\sugar\\attrsettr.py:45: size=705 B, count=15, average=47 B\n",
      "c:\\Satish\\Complete-Python-Bootcamp\\venv\\Lib\\site-packages\\jupyter_client\\session.py:1057: size=705 B, count=5, average=141 B\n",
      "c:\\Satish\\Complete-Python-Bootcamp\\venv\\Lib\\site-packages\\IPython\\core\\compilerop.py:86: size=704 B, count=8, average=88 B\n",
      "c:\\Satish\\Complete-Python-Bootcamp\\venv\\Lib\\site-packages\\traitlets\\traitlets.py:1543: size=670 B, count=11, average=61 B\n",
      "c:\\Satish\\Complete-Python-Bootcamp\\venv\\Lib\\site-packages\\ipykernel\\iostream.py:346: size=600 B, count=9, average=67 B\n",
      "c:\\Satish\\Complete-Python-Bootcamp\\venv\\Lib\\site-packages\\IPython\\core\\history.py:1011: size=600 B, count=5, average=120 B\n",
      "c:\\Satish\\Complete-Python-Bootcamp\\venv\\Lib\\asyncio\\events.py:88: size=576 B, count=5, average=115 B\n",
      "c:\\Satish\\Complete-Python-Bootcamp\\venv\\Lib\\site-packages\\ipykernel\\iostream.py:276: size=528 B, count=5, average=106 B\n",
      "c:\\Satish\\Complete-Python-Bootcamp\\venv\\Lib\\site-packages\\IPython\\core\\interactiveshell.py:3145: size=528 B, count=4, average=132 B\n",
      "c:\\Satish\\Complete-Python-Bootcamp\\venv\\Lib\\site-packages\\ipykernel\\iostream.py:287: size=512 B, count=6, average=85 B\n",
      "c:\\Satish\\Complete-Python-Bootcamp\\venv\\Lib\\site-packages\\ipykernel\\kernelbase.py:775: size=424 B, count=2, average=212 B\n",
      "c:\\Satish\\Complete-Python-Bootcamp\\venv\\Lib\\asyncio\\base_events.py:819: size=416 B, count=4, average=104 B\n",
      "c:\\Satish\\Complete-Python-Bootcamp\\venv\\Lib\\site-packages\\IPython\\core\\interactiveshell.py:3394: size=376 B, count=1, average=376 B\n",
      "c:\\Satish\\Complete-Python-Bootcamp\\venv\\Lib\\site-packages\\ipykernel\\ipkernel.py:362: size=360 B, count=1, average=360 B\n",
      "c:\\Satish\\Complete-Python-Bootcamp\\venv\\Lib\\codeop.py:126: size=355 B, count=4, average=89 B\n",
      "c:\\Satish\\Complete-Python-Bootcamp\\venv\\Lib\\site-packages\\jupyter_client\\jsonutil.py:111: size=350 B, count=7, average=50 B\n",
      "c:\\Satish\\Complete-Python-Bootcamp\\venv\\Lib\\site-packages\\IPython\\core\\interactiveshell.py:3043: size=320 B, count=2, average=160 B\n",
      "c:\\Satish\\Complete-Python-Bootcamp\\venv\\Lib\\contextlib.py:301: size=312 B, count=6, average=52 B\n",
      "c:\\Satish\\Complete-Python-Bootcamp\\venv\\Lib\\site-packages\\IPython\\core\\interactiveshell.py:3639: size=296 B, count=1, average=296 B\n",
      "c:\\Satish\\Complete-Python-Bootcamp\\venv\\Lib\\threading.py:290: size=280 B, count=2, average=140 B\n",
      "c:\\Satish\\Complete-Python-Bootcamp\\venv\\Lib\\site-packages\\ipykernel\\kernelbase.py:534: size=264 B, count=1, average=264 B\n",
      "c:\\Satish\\Complete-Python-Bootcamp\\venv\\Lib\\site-packages\\ipykernel\\kernelbase.py:435: size=248 B, count=1, average=248 B\n",
      "c:\\Satish\\Complete-Python-Bootcamp\\venv\\Lib\\site-packages\\traitlets\\traitlets.py:1514: size=240 B, count=2, average=120 B\n",
      "c:\\Satish\\Complete-Python-Bootcamp\\venv\\Lib\\logging\\__init__.py:1622: size=240 B, count=1, average=240 B\n",
      "c:\\Satish\\Complete-Python-Bootcamp\\venv\\Lib\\site-packages\\ipykernel\\kernelbase.py:545: size=232 B, count=1, average=232 B\n",
      "c:\\Satish\\Complete-Python-Bootcamp\\venv\\Lib\\site-packages\\ipykernel\\zmqshell.py:549: size=224 B, count=3, average=75 B\n",
      "c:\\Satish\\Complete-Python-Bootcamp\\venv\\Lib\\site-packages\\jupyter_client\\session.py:1085: size=208 B, count=1, average=208 B\n",
      "c:\\Satish\\Complete-Python-Bootcamp\\venv\\Lib\\site-packages\\jupyter_client\\jsonutil.py:75: size=208 B, count=1, average=208 B\n",
      "c:\\Satish\\Complete-Python-Bootcamp\\venv\\Lib\\site-packages\\ipykernel\\kernelbase.py:770: size=208 B, count=1, average=208 B\n",
      "c:\\Satish\\Complete-Python-Bootcamp\\venv\\Lib\\asyncio\\futures.py:420: size=200 B, count=5, average=40 B\n",
      "c:\\Satish\\Complete-Python-Bootcamp\\venv\\Lib\\site-packages\\jupyter_client\\session.py:688: size=194 B, count=2, average=97 B\n",
      "c:\\Satish\\Complete-Python-Bootcamp\\venv\\Lib\\site-packages\\jupyter_client\\session.py:750: size=192 B, count=2, average=96 B\n",
      "c:\\Satish\\Complete-Python-Bootcamp\\venv\\Lib\\site-packages\\zmq\\sugar\\socket.py:802: size=184 B, count=2, average=92 B\n",
      "c:\\Satish\\Complete-Python-Bootcamp\\venv\\Lib\\site-packages\\ipykernel\\kernelbase.py:1182: size=173 B, count=2, average=86 B\n",
      "c:\\Satish\\Complete-Python-Bootcamp\\venv\\Lib\\site-packages\\ipykernel\\kernelbase.py:570: size=160 B, count=1, average=160 B\n",
      "c:\\Satish\\Complete-Python-Bootcamp\\venv\\Lib\\site-packages\\IPython\\core\\interactiveshell.py:3699: size=160 B, count=1, average=160 B\n",
      "c:\\Satish\\Complete-Python-Bootcamp\\venv\\Lib\\site-packages\\IPython\\core\\interactiveshell.py:3615: size=160 B, count=1, average=160 B\n",
      "c:\\Satish\\Complete-Python-Bootcamp\\venv\\Lib\\site-packages\\IPython\\core\\interactiveshell.py:3292: size=160 B, count=1, average=160 B\n",
      "c:\\Satish\\Complete-Python-Bootcamp\\venv\\Lib\\asyncio\\futures.py:396: size=160 B, count=1, average=160 B\n",
      "c:\\Satish\\Complete-Python-Bootcamp\\venv\\Lib\\asyncio\\futures.py:389: size=160 B, count=1, average=160 B\n",
      "c:\\Satish\\Complete-Python-Bootcamp\\venv\\Lib\\asyncio\\futures.py:383: size=160 B, count=1, average=160 B\n",
      "c:\\Satish\\Complete-Python-Bootcamp\\venv\\Lib\\site-packages\\tornado\\platform\\asyncio.py:241: size=144 B, count=2, average=72 B\n",
      "c:\\Satish\\Complete-Python-Bootcamp\\venv\\Lib\\site-packages\\ipykernel\\iostream.py:722: size=144 B, count=2, average=72 B\n",
      "c:\\Satish\\Complete-Python-Bootcamp\\venv\\Lib\\site-packages\\tornado\\queues.py:248: size=144 B, count=1, average=144 B\n",
      "c:\\Satish\\Complete-Python-Bootcamp\\venv\\Lib\\asyncio\\base_events.py:448: size=144 B, count=1, average=144 B\n",
      "c:\\Satish\\Complete-Python-Bootcamp\\venv\\Lib\\site-packages\\ipykernel\\iostream.py:527: size=136 B, count=2, average=68 B\n",
      "c:\\Satish\\Complete-Python-Bootcamp\\venv\\Lib\\site-packages\\IPython\\core\\interactiveshell.py:3114: size=128 B, count=2, average=64 B\n",
      "c:\\Satish\\Complete-Python-Bootcamp\\venv\\Lib\\threading.py:135: size=120 B, count=2, average=60 B\n",
      "c:\\Satish\\Complete-Python-Bootcamp\\venv\\Lib\\site-packages\\ipykernel\\kernelbase.py:318: size=120 B, count=2, average=60 B\n",
      "c:\\Satish\\Complete-Python-Bootcamp\\venv\\Lib\\site-packages\\IPython\\core\\interactiveshell.py:3271: size=120 B, count=2, average=60 B\n",
      "c:\\Satish\\Complete-Python-Bootcamp\\venv\\Lib\\inspect.py:266: size=120 B, count=1, average=120 B\n",
      "c:\\Satish\\Complete-Python-Bootcamp\\venv\\Lib\\site-packages\\jupyter_client\\session.py:989: size=111 B, count=2, average=56 B\n",
      "c:\\Satish\\Complete-Python-Bootcamp\\venv\\Lib\\site-packages\\ipykernel\\compiler.py:91: size=104 B, count=1, average=104 B\n",
      "c:\\Satish\\Complete-Python-Bootcamp\\venv\\Lib\\asyncio\\base_events.py:1983: size=96 B, count=3, average=32 B\n",
      "c:\\Satish\\Complete-Python-Bootcamp\\venv\\Lib\\site-packages\\zmq\\sugar\\socket.py:751: size=96 B, count=2, average=48 B\n",
      "c:\\Satish\\Complete-Python-Bootcamp\\venv\\Lib\\site-packages\\IPython\\core\\interactiveshell.py:3497: size=96 B, count=2, average=48 B\n",
      "c:\\Satish\\Complete-Python-Bootcamp\\venv\\Lib\\site-packages\\IPython\\core\\interactiveshell.py:3279: size=88 B, count=2, average=44 B\n",
      "c:\\Satish\\Complete-Python-Bootcamp\\venv\\Lib\\site-packages\\IPython\\core\\interactiveshell.py:3068: size=88 B, count=2, average=44 B\n",
      "c:\\Satish\\Complete-Python-Bootcamp\\venv\\Lib\\site-packages\\IPython\\core\\interactiveshell.py:3065: size=80 B, count=2, average=40 B\n",
      "c:\\Satish\\Complete-Python-Bootcamp\\venv\\Lib\\site-packages\\IPython\\core\\compilerop.py:174: size=80 B, count=2, average=40 B\n",
      "c:\\Satish\\Complete-Python-Bootcamp\\venv\\Lib\\threading.py:292: size=72 B, count=1, average=72 B\n",
      "c:\\Satish\\Complete-Python-Bootcamp\\venv\\Lib\\threading.py:288: size=72 B, count=1, average=72 B\n",
      "c:\\Satish\\Complete-Python-Bootcamp\\venv\\Lib\\threading.py:283: size=72 B, count=1, average=72 B\n",
      "c:\\Satish\\Complete-Python-Bootcamp\\venv\\Lib\\threading.py:282: size=72 B, count=1, average=72 B\n",
      "c:\\Satish\\Complete-Python-Bootcamp\\venv\\Lib\\site-packages\\IPython\\core\\history.py:1030: size=72 B, count=1, average=72 B\n",
      "c:\\Satish\\Complete-Python-Bootcamp\\venv\\Lib\\site-packages\\IPython\\core\\history.py:1009: size=72 B, count=1, average=72 B\n",
      "c:\\Satish\\Complete-Python-Bootcamp\\venv\\Lib\\site-packages\\IPython\\core\\interactiveshell.py:3631: size=64 B, count=2, average=32 B\n",
      "c:\\Satish\\Complete-Python-Bootcamp\\venv\\Lib\\site-packages\\zmq\\sugar\\socket.py:806: size=64 B, count=1, average=64 B\n",
      "c:\\Satish\\Complete-Python-Bootcamp\\venv\\Lib\\site-packages\\zmq\\eventloop\\zmqstream.py:560: size=64 B, count=1, average=64 B\n",
      "c:\\Satish\\Complete-Python-Bootcamp\\venv\\Lib\\site-packages\\jupyter_client\\jsonutil.py:73: size=64 B, count=1, average=64 B\n",
      "c:\\Satish\\Complete-Python-Bootcamp\\venv\\Lib\\site-packages\\ipykernel\\ipkernel.py:384: size=64 B, count=1, average=64 B\n",
      "c:\\Satish\\Complete-Python-Bootcamp\\venv\\Lib\\site-packages\\ipykernel\\ipkernel.py:383: size=64 B, count=1, average=64 B\n",
      "c:\\Satish\\Complete-Python-Bootcamp\\venv\\Lib\\site-packages\\ipykernel\\ipkernel.py:294: size=64 B, count=1, average=64 B\n",
      "c:\\Satish\\Complete-Python-Bootcamp\\venv\\Lib\\site-packages\\ipykernel\\ipkernel.py:291: size=64 B, count=1, average=64 B\n",
      "c:\\Satish\\Complete-Python-Bootcamp\\venv\\Lib\\site-packages\\decorator.py:235: size=64 B, count=1, average=64 B\n",
      "c:\\Satish\\Complete-Python-Bootcamp\\venv\\Lib\\site-packages\\IPython\\core\\interactiveshell.py:3688: size=64 B, count=1, average=64 B\n",
      "c:\\Satish\\Complete-Python-Bootcamp\\venv\\Lib\\site-packages\\IPython\\core\\interactiveshell.py:3363: size=64 B, count=1, average=64 B\n",
      "c:\\Satish\\Complete-Python-Bootcamp\\venv\\Lib\\site-packages\\IPython\\core\\interactiveshell.py:3360: size=64 B, count=1, average=64 B\n",
      "c:\\Satish\\Complete-Python-Bootcamp\\venv\\Lib\\site-packages\\IPython\\core\\history.py:1111: size=64 B, count=1, average=64 B\n",
      "c:\\Satish\\Complete-Python-Bootcamp\\venv\\Lib\\asyncio\\events.py:38: size=64 B, count=1, average=64 B\n",
      "c:\\Satish\\Complete-Python-Bootcamp\\venv\\Lib\\site-packages\\IPython\\core\\interactiveshell.py:3070: size=52 B, count=1, average=52 B\n",
      "c:\\Satish\\Complete-Python-Bootcamp\\venv\\Lib\\site-packages\\ipykernel\\iostream.py:684: size=50 B, count=1, average=50 B\n",
      "c:\\Satish\\Complete-Python-Bootcamp\\venv\\Lib\\site-packages\\jupyter_client\\session.py:200: size=48 B, count=1, average=48 B\n",
      "c:\\Satish\\Complete-Python-Bootcamp\\venv\\Lib\\site-packages\\dateutil\\parser\\isoparser.py:146: size=48 B, count=1, average=48 B\n",
      "c:\\Satish\\Complete-Python-Bootcamp\\venv\\Lib\\site-packages\\IPython\\core\\interactiveshell.py:3627: size=48 B, count=1, average=48 B\n",
      "c:\\Satish\\Complete-Python-Bootcamp\\venv\\Lib\\site-packages\\IPython\\core\\history.py:1010: size=48 B, count=1, average=48 B\n",
      "c:\\Satish\\Complete-Python-Bootcamp\\venv\\Lib\\concurrent\\futures\\_base.py:338: size=48 B, count=1, average=48 B\n",
      "c:\\Satish\\Complete-Python-Bootcamp\\venv\\Lib\\concurrent\\futures\\_base.py:330: size=48 B, count=1, average=48 B\n",
      "c:\\Satish\\Complete-Python-Bootcamp\\venv\\Lib\\site-packages\\IPython\\core\\prefilter.py:317: size=47 B, count=1, average=47 B\n",
      "c:\\Satish\\Complete-Python-Bootcamp\\venv\\Lib\\site-packages\\IPython\\core\\history.py:958: size=47 B, count=1, average=47 B\n",
      "c:\\Satish\\Complete-Python-Bootcamp\\venv\\Lib\\site-packages\\IPython\\core\\history.py:982: size=45 B, count=1, average=45 B\n",
      "c:\\Satish\\Complete-Python-Bootcamp\\venv\\Lib\\site-packages\\jupyter_client\\session.py:996: size=32 B, count=1, average=32 B\n",
      "c:\\Satish\\Complete-Python-Bootcamp\\venv\\Lib\\site-packages\\ipykernel\\iostream.py:637: size=32 B, count=1, average=32 B\n",
      "c:\\Satish\\Complete-Python-Bootcamp\\venv\\Lib\\site-packages\\ipykernel\\iostream.py:168: size=32 B, count=1, average=32 B\n",
      "c:\\Satish\\Complete-Python-Bootcamp\\venv\\Lib\\site-packages\\IPython\\core\\interactiveshell.py:3625: size=32 B, count=1, average=32 B\n",
      "c:\\Satish\\Complete-Python-Bootcamp\\venv\\Lib\\site-packages\\IPython\\core\\history.py:969: size=32 B, count=1, average=32 B\n",
      "c:\\Satish\\Complete-Python-Bootcamp\\venv\\Lib\\site-packages\\IPython\\core\\compilerop.py:192: size=32 B, count=1, average=32 B\n",
      "c:\\Satish\\Complete-Python-Bootcamp\\venv\\Lib\\concurrent\\futures\\_base.py:421: size=32 B, count=1, average=32 B\n",
      "c:\\Satish\\Complete-Python-Bootcamp\\venv\\Lib\\asyncio\\base_events.py:1972: size=32 B, count=1, average=32 B\n",
      "c:\\Satish\\Complete-Python-Bootcamp\\venv\\Lib\\site-packages\\IPython\\core\\interactiveshell.py:3607: size=8 B, count=1, average=8 B\n"
     ]
    }
   ],
   "source": [
    "main()"
   ]
  },
  {
   "cell_type": "code",
   "execution_count": null,
   "metadata": {},
   "outputs": [],
   "source": []
  },
  {
   "cell_type": "markdown",
   "metadata": {},
   "source": []
  },
  {
   "cell_type": "markdown",
   "metadata": {},
   "source": []
  }
 ],
 "metadata": {
  "kernelspec": {
   "display_name": "Python 3",
   "language": "python",
   "name": "python3"
  },
  "language_info": {
   "codemirror_mode": {
    "name": "ipython",
    "version": 3
   },
   "file_extension": ".py",
   "mimetype": "text/x-python",
   "name": "python",
   "nbconvert_exporter": "python",
   "pygments_lexer": "ipython3",
   "version": "3.12.11"
  }
 },
 "nbformat": 4,
 "nbformat_minor": 2
}
